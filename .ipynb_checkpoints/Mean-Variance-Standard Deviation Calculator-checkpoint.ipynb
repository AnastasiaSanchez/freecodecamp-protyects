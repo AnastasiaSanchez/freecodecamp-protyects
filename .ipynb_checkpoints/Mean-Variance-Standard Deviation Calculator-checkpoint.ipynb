{
 "cells": [
  {
   "cell_type": "code",
   "execution_count": 1,
   "id": "31fdffba",
   "metadata": {},
   "outputs": [],
   "source": [
    "import numpy as np"
   ]
  },
  {
   "cell_type": "code",
   "execution_count": 78,
   "id": "cd775cf5",
   "metadata": {
    "scrolled": true
   },
   "outputs": [],
   "source": [
    "def calculate (list):\n",
    "    if len (list) !=9 :\n",
    "        print(\"List must contain nine numbers\")\n",
    "    else: \n",
    "        arr= np.array(list).reshape(3,3)\n",
    "#Mean \n",
    "        mean_col= arr.mean(axis=1).tolist()\n",
    "        mean_rows=arr.mean(axis=0).tolist()\n",
    "        mean_g= arr.mean()\n",
    "#Variance\n",
    "        var_col= arr.var(axis=1).tolist()\n",
    "        var_rows=arr.var(axis=0).tolist()\n",
    "        var_g= arr.var()\n",
    "#Standar Deviation\n",
    "        sd_col= arr.std(axis=1).tolist()\n",
    "        sd_rows=arr.std(axis=0).tolist()\n",
    "        sd_g=arr.std()\n",
    "#Maximun\n",
    "        ma_col= arr.max(axis=1).tolist()\n",
    "        ma_rows=arr.max(axis=0).tolist()\n",
    "        ma_g=arr.max()\n",
    "#Minimun\n",
    "        mi_col=arr.min(axis=1).tolist()\n",
    "        mi_rows=arr.min(axis=0).tolist()\n",
    "        mi_g=arr.min()\n",
    "#Sum\n",
    "        sum_col=arr.sum(axis=1).tolist()\n",
    "        sum_rows=arr.sum(axis=0).tolist()\n",
    "        sum_g=arr.sum()\n",
    "        calculo = {'mean': [mean_col, mean_rows, mean_g],\n",
    "           'variance': [var_col,var_rows,var_g],\n",
    "           'standar_deviation': [sd_col,sd_rows,sd_g],\n",
    "           'maximun': [ma_col,ma_rows,ma_g],\n",
    "           'minimun': [mi_col,mi_rows,mi_g],\n",
    "           'sum':[sum_col,sum_rows,sum_g]}\n",
    "        return calculo "
   ]
  },
  {
   "cell_type": "code",
   "execution_count": 79,
   "id": "efd0e13d",
   "metadata": {},
   "outputs": [
    {
     "data": {
      "text/plain": [
       "{'mean': [[2.0, 5.0, 8.0], [4.0, 5.0, 6.0], 5.0],\n",
       " 'variance': [[0.6666666666666666, 0.6666666666666666, 0.6666666666666666],\n",
       "  [6.0, 6.0, 6.0],\n",
       "  6.666666666666667],\n",
       " 'standar_deviation': [[0.816496580927726,\n",
       "   0.816496580927726,\n",
       "   0.816496580927726],\n",
       "  [2.449489742783178, 2.449489742783178, 2.449489742783178],\n",
       "  2.581988897471611],\n",
       " 'maximun': [[3, 6, 9], [7, 8, 9], 9],\n",
       " 'minimun': [[1, 4, 7], [1, 2, 3], 1],\n",
       " 'sum': [[6, 15, 24], [12, 15, 18], 45]}"
      ]
     },
     "execution_count": 79,
     "metadata": {},
     "output_type": "execute_result"
    }
   ],
   "source": [
    "calculate ([1,2,3,4,5,6,7,8,9])"
   ]
  },
  {
   "cell_type": "code",
   "execution_count": 1,
   "id": "e3720ec5",
   "metadata": {},
   "outputs": [],
   "source": []
  },
  {
   "cell_type": "code",
   "execution_count": null,
   "id": "1d802f86",
   "metadata": {},
   "outputs": [],
   "source": []
  }
 ],
 "metadata": {
  "kernelspec": {
   "display_name": "Python 3",
   "language": "python",
   "name": "python3"
  },
  "language_info": {
   "codemirror_mode": {
    "name": "ipython",
    "version": 3
   },
   "file_extension": ".py",
   "mimetype": "text/x-python",
   "name": "python",
   "nbconvert_exporter": "python",
   "pygments_lexer": "ipython3",
   "version": "3.8.8"
  }
 },
 "nbformat": 4,
 "nbformat_minor": 5
}
